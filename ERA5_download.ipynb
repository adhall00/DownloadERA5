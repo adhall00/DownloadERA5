{
 "cells": [
  {
   "cell_type": "code",
   "execution_count": 1,
   "id": "0a9a3257-c16d-4465-84c0-c31c0f73b269",
   "metadata": {},
   "outputs": [],
   "source": [
    "# pip install cdsapi"
   ]
  },
  {
   "cell_type": "code",
   "execution_count": null,
   "id": "998a150b-dd3c-4510-831d-de22c7decf0e",
   "metadata": {},
   "outputs": [
    {
     "name": "stderr",
     "output_type": "stream",
     "text": [
      "2025-09-10 11:28:10,366 INFO [2024-09-26T00:00:00] Watch our [Forum](https://forum.ecmwf.int/) for Announcements, news and other discussed topics.\n"
     ]
    }
   ],
   "source": [
    "import cdsapi\n",
    "\n",
    "# Replace with your real API key\n",
    "api_key = \"API KEY\" # found at https://cds.climate.copernicus.eu/how-to-api make sure you log in to get your api key\n",
    "\n",
    "c = cdsapi.Client(\n",
    "    url=\"https://cds.climate.copernicus.eu/api/\",\n",
    "    key=api_key\n",
    ")\n",
    "\n",
    "\n"
   ]
  },
  {
   "cell_type": "code",
   "execution_count": null,
   "id": "c2452bfa-54f4-4dac-b8f1-996c070308b7",
   "metadata": {},
   "outputs": [
    {
     "name": "stderr",
     "output_type": "stream",
     "text": [
      "2025-09-10 11:28:10,986 INFO Request ID is 1fdaebd5-58fb-406d-a9a6-1ec56a7bdea0\n",
      "2025-09-10 11:28:11,128 INFO status has been updated to accepted\n",
      "2025-09-10 11:28:25,037 INFO status has been updated to running\n",
      "2025-09-10 11:34:31,257 INFO status has been updated to successful\n",
      "                                                                                "
     ]
    },
    {
     "data": {
      "text/plain": [
       "'/data3/adhall2/FinalSu2025Project/ERA5Data/MeanSeaLevelPressure/era5_msl_2017_6hourly.nc'"
      ]
     },
     "execution_count": 3,
     "metadata": {},
     "output_type": "execute_result"
    }
   ],
   "source": [
    "import cdsapi\n",
    "import os\n",
    "\n",
    "dataset = \"reanalysis-era5-single-levels\"\n",
    "request = {\n",
    "    \"product_type\": [\"reanalysis\"],\n",
    "    \"variable\": [\"mean_sea_level_pressure\"],\n",
    "    \"year\": [\n",
    "        \"2017\"\n",
    "    ],\n",
    "    \"month\": [\n",
    "        \"01\", \"02\", \"03\",\n",
    "        \"04\", \"05\", \"06\",\n",
    "        \"07\", \"08\", \"09\",\n",
    "        \"10\", \"11\", \"12\"\n",
    "    ],\n",
    "    \"day\": [\n",
    "        \"01\", \"02\", \"03\",\n",
    "        \"04\", \"05\", \"06\",\n",
    "        \"07\", \"08\", \"09\",\n",
    "        \"10\", \"11\", \"12\",\n",
    "        \"13\", \"14\", \"15\",\n",
    "        \"16\", \"17\", \"18\",\n",
    "        \"19\", \"20\", \"21\",\n",
    "        \"22\", \"23\", \"24\",\n",
    "        \"25\", \"26\", \"27\",\n",
    "        \"28\", \"29\", \"30\",\n",
    "        \"31\"\n",
    "    ],\n",
    "    \"time\": [\n",
    "        \"00:00\", \"06:00\", \"12:00\",\n",
    "        \"18:00\"\n",
    "    ],\n",
    "    \"data_format\": \"netcdf\",\n",
    "    \"download_format\": \"unarchived\"\n",
    "}\n",
    "\n",
    "target = \"/OUTPUT_DIR/era5_msl_2017_6hourly.nc\"\n",
    "os.makedirs(os.path.dirname(target), exist_ok=True)\n",
    "# client = cdsapi.Client()\n",
    "\n",
    "c.retrieve(dataset, request, target)\n"
   ]
  },
  {
   "cell_type": "code",
   "execution_count": null,
   "id": "dd6bdee5-d896-4057-8603-24d337477a81",
   "metadata": {},
   "outputs": [
    {
     "name": "stderr",
     "output_type": "stream",
     "text": [
      "2025-09-10 11:43:29,595 INFO Request ID is 483b9300-21fc-45fd-9f4c-2bf7c83a7637\n",
      "2025-09-10 11:43:29,760 INFO status has been updated to accepted\n",
      "2025-09-10 11:43:43,789 INFO status has been updated to running\n",
      "2025-09-10 11:49:50,863 INFO status has been updated to successful\n",
      "                                                                                "
     ]
    },
    {
     "data": {
      "text/plain": [
       "'/data3/adhall2/FinalSu2025Project/ERA5Data/MeanSeaLevelPressure/era5_msl_2018_6hourly.nc'"
      ]
     },
     "execution_count": 4,
     "metadata": {},
     "output_type": "execute_result"
    }
   ],
   "source": [
    "import cdsapi\n",
    "import os\n",
    "\n",
    "dataset = \"reanalysis-era5-single-levels\"\n",
    "request = {\n",
    "    \"product_type\": [\"reanalysis\"],\n",
    "    \"variable\": [\"mean_sea_level_pressure\"],\n",
    "    \"year\": [\n",
    "        \"2018\"\n",
    "    ],\n",
    "    \"month\": [\n",
    "        \"01\", \"02\", \"03\",\n",
    "        \"04\", \"05\", \"06\",\n",
    "        \"07\", \"08\", \"09\",\n",
    "        \"10\", \"11\", \"12\"\n",
    "    ],\n",
    "    \"day\": [\n",
    "        \"01\", \"02\", \"03\",\n",
    "        \"04\", \"05\", \"06\",\n",
    "        \"07\", \"08\", \"09\",\n",
    "        \"10\", \"11\", \"12\",\n",
    "        \"13\", \"14\", \"15\",\n",
    "        \"16\", \"17\", \"18\",\n",
    "        \"19\", \"20\", \"21\",\n",
    "        \"22\", \"23\", \"24\",\n",
    "        \"25\", \"26\", \"27\",\n",
    "        \"28\", \"29\", \"30\",\n",
    "        \"31\"\n",
    "    ],\n",
    "    \"time\": [\n",
    "        \"00:00\", \"06:00\", \"12:00\",\n",
    "        \"18:00\"\n",
    "    ],\n",
    "    \"data_format\": \"netcdf\",\n",
    "    \"download_format\": \"unarchived\"\n",
    "}\n",
    "\n",
    "target = \"/OUTPUT_DIR/era5_msl_2018_6hourly.nc\"\n",
    "os.makedirs(os.path.dirname(target), exist_ok=True)\n",
    "# client = cdsapi.Client()\n",
    "\n",
    "c.retrieve(dataset, request, target)\n"
   ]
  },
  {
   "cell_type": "code",
   "execution_count": null,
   "id": "98037190-2126-43d7-8470-10fb06560552",
   "metadata": {},
   "outputs": [
    {
     "name": "stderr",
     "output_type": "stream",
     "text": [
      "2025-09-10 11:59:49,612 INFO Request ID is 29c5ca30-1905-4bc2-81eb-eb4216e9d98e\n",
      "2025-09-10 11:59:49,780 INFO status has been updated to accepted\n",
      "2025-09-10 12:00:03,736 INFO status has been updated to running\n",
      "2025-09-10 12:06:09,910 INFO status has been updated to successful\n",
      "                                                                                "
     ]
    },
    {
     "data": {
      "text/plain": [
       "'/data3/adhall2/FinalSu2025Project/ERA5Data/MeanSeaLevelPressure/era5_msl_2019_6hourly.nc'"
      ]
     },
     "execution_count": 5,
     "metadata": {},
     "output_type": "execute_result"
    }
   ],
   "source": [
    "import cdsapi\n",
    "import os\n",
    "\n",
    "dataset = \"reanalysis-era5-single-levels\"\n",
    "request = {\n",
    "    \"product_type\": [\"reanalysis\"],\n",
    "    \"variable\": [\"mean_sea_level_pressure\"],\n",
    "    \"year\": [\n",
    "        \"2019\"\n",
    "    ],\n",
    "    \"month\": [\n",
    "        \"01\", \"02\", \"03\",\n",
    "        \"04\", \"05\", \"06\",\n",
    "        \"07\", \"08\", \"09\",\n",
    "        \"10\", \"11\", \"12\"\n",
    "    ],\n",
    "    \"day\": [\n",
    "        \"01\", \"02\", \"03\",\n",
    "        \"04\", \"05\", \"06\",\n",
    "        \"07\", \"08\", \"09\",\n",
    "        \"10\", \"11\", \"12\",\n",
    "        \"13\", \"14\", \"15\",\n",
    "        \"16\", \"17\", \"18\",\n",
    "        \"19\", \"20\", \"21\",\n",
    "        \"22\", \"23\", \"24\",\n",
    "        \"25\", \"26\", \"27\",\n",
    "        \"28\", \"29\", \"30\",\n",
    "        \"31\"\n",
    "    ],\n",
    "    \"time\": [\n",
    "        \"00:00\", \"06:00\", \"12:00\",\n",
    "        \"18:00\"\n",
    "    ],\n",
    "    \"data_format\": \"netcdf\",\n",
    "    \"download_format\": \"unarchived\"\n",
    "}\n",
    "\n",
    "target = \"/OUTPUT_DIR/era5_msl_2019_6hourly.nc\"\n",
    "os.makedirs(os.path.dirname(target), exist_ok=True)\n",
    "# client = cdsapi.Client()\n",
    "\n",
    "c.retrieve(dataset, request, target)\n"
   ]
  },
  {
   "cell_type": "code",
   "execution_count": null,
   "id": "24ab52c4-7ba3-4b07-b37b-00a1345bfa72",
   "metadata": {},
   "outputs": [
    {
     "name": "stderr",
     "output_type": "stream",
     "text": [
      "2025-09-10 12:16:02,407 INFO Request ID is bfc6e3d3-2a5c-42d7-94e0-630fd6683e47\n",
      "2025-09-10 12:16:02,543 INFO status has been updated to accepted\n",
      "2025-09-10 12:16:11,206 INFO status has been updated to running\n",
      "2025-09-10 12:22:24,475 INFO status has been updated to successful\n",
      "                                                                                "
     ]
    },
    {
     "data": {
      "text/plain": [
       "'/data3/adhall2/FinalSu2025Project/ERA5Data/MeanSeaLevelPressure/era5_msl_2020_6hourly.nc'"
      ]
     },
     "execution_count": 6,
     "metadata": {},
     "output_type": "execute_result"
    }
   ],
   "source": [
    "import cdsapi\n",
    "import os\n",
    "\n",
    "dataset = \"reanalysis-era5-single-levels\"\n",
    "request = {\n",
    "    \"product_type\": [\"reanalysis\"],\n",
    "    \"variable\": [\"mean_sea_level_pressure\"],\n",
    "    \"year\": [\n",
    "        \"2020\"\n",
    "    ],\n",
    "    \"month\": [\n",
    "        \"01\", \"02\", \"03\",\n",
    "        \"04\", \"05\", \"06\",\n",
    "        \"07\", \"08\", \"09\",\n",
    "        \"10\", \"11\", \"12\"\n",
    "    ],\n",
    "    \"day\": [\n",
    "        \"01\", \"02\", \"03\",\n",
    "        \"04\", \"05\", \"06\",\n",
    "        \"07\", \"08\", \"09\",\n",
    "        \"10\", \"11\", \"12\",\n",
    "        \"13\", \"14\", \"15\",\n",
    "        \"16\", \"17\", \"18\",\n",
    "        \"19\", \"20\", \"21\",\n",
    "        \"22\", \"23\", \"24\",\n",
    "        \"25\", \"26\", \"27\",\n",
    "        \"28\", \"29\", \"30\",\n",
    "        \"31\"\n",
    "    ],\n",
    "    \"time\": [\n",
    "        \"00:00\", \"06:00\", \"12:00\",\n",
    "        \"18:00\"\n",
    "    ],\n",
    "    \"data_format\": \"netcdf\",\n",
    "    \"download_format\": \"unarchived\"\n",
    "}\n",
    "\n",
    "target = \"/OUTPUT_DIR/era5_msl_2020_6hourly.nc\"\n",
    "os.makedirs(os.path.dirname(target), exist_ok=True)\n",
    "# client = cdsapi.Client()\n",
    "\n",
    "c.retrieve(dataset, request, target)\n"
   ]
  },
  {
   "cell_type": "code",
   "execution_count": null,
   "id": "0a6cac1b-787f-4879-8154-c27609e439d3",
   "metadata": {},
   "outputs": [
    {
     "name": "stderr",
     "output_type": "stream",
     "text": [
      "2025-09-10 12:34:06,868 INFO Request ID is fe57f1bf-ccc9-4340-a86f-d31610022289\n",
      "2025-09-10 12:34:07,007 INFO status has been updated to accepted\n",
      "2025-09-10 12:34:28,757 INFO status has been updated to running\n",
      "2025-09-10 12:40:27,041 INFO status has been updated to successful\n",
      "                                                                                "
     ]
    },
    {
     "data": {
      "text/plain": [
       "'/data3/adhall2/FinalSu2025Project/ERA5Data/MeanSeaLevelPressure/era5_msl_2021_6hourly.nc'"
      ]
     },
     "execution_count": 7,
     "metadata": {},
     "output_type": "execute_result"
    }
   ],
   "source": [
    "import cdsapi\n",
    "import os\n",
    "\n",
    "dataset = \"reanalysis-era5-single-levels\"\n",
    "request = {\n",
    "    \"product_type\": [\"reanalysis\"],\n",
    "    \"variable\": [\"mean_sea_level_pressure\"],\n",
    "    \"year\": [\n",
    "        \"2021\"\n",
    "    ],\n",
    "    \"month\": [\n",
    "        \"01\", \"02\", \"03\",\n",
    "        \"04\", \"05\", \"06\",\n",
    "        \"07\", \"08\", \"09\",\n",
    "        \"10\", \"11\", \"12\"\n",
    "    ],\n",
    "    \"day\": [\n",
    "        \"01\", \"02\", \"03\",\n",
    "        \"04\", \"05\", \"06\",\n",
    "        \"07\", \"08\", \"09\",\n",
    "        \"10\", \"11\", \"12\",\n",
    "        \"13\", \"14\", \"15\",\n",
    "        \"16\", \"17\", \"18\",\n",
    "        \"19\", \"20\", \"21\",\n",
    "        \"22\", \"23\", \"24\",\n",
    "        \"25\", \"26\", \"27\",\n",
    "        \"28\", \"29\", \"30\",\n",
    "        \"31\"\n",
    "    ],\n",
    "    \"time\": [\n",
    "        \"00:00\", \"06:00\", \"12:00\",\n",
    "        \"18:00\"\n",
    "    ],\n",
    "    \"data_format\": \"netcdf\",\n",
    "    \"download_format\": \"unarchived\"\n",
    "}\n",
    "\n",
    "target = \"/OUTPUT_DIR/era5_msl_2021_6hourly.nc\"\n",
    "os.makedirs(os.path.dirname(target), exist_ok=True)\n",
    "# client = cdsapi.Client()\n",
    "\n",
    "c.retrieve(dataset, request, target)\n"
   ]
  },
  {
   "cell_type": "code",
   "execution_count": null,
   "id": "de36cd19-e9ce-4add-bdea-849183871433",
   "metadata": {},
   "outputs": [
    {
     "name": "stderr",
     "output_type": "stream",
     "text": [
      "2025-09-10 12:51:33,132 INFO Request ID is f9c6acb6-0a8b-4244-999f-71b4308fc29d\n",
      "2025-09-10 12:51:33,285 INFO status has been updated to accepted\n",
      "2025-09-10 12:51:42,001 INFO status has been updated to running\n",
      "2025-09-10 12:51:47,220 INFO status has been updated to successful\n",
      "                                                                                "
     ]
    },
    {
     "data": {
      "text/plain": [
       "'/data3/adhall2/FinalSu2025Project/ERA5Data/MeanSeaLevelPressure/era5_msl_2022_6hourly.nc'"
      ]
     },
     "execution_count": 8,
     "metadata": {},
     "output_type": "execute_result"
    }
   ],
   "source": [
    "import cdsapi\n",
    "import os\n",
    "\n",
    "dataset = \"reanalysis-era5-single-levels\"\n",
    "request = {\n",
    "    \"product_type\": [\"reanalysis\"],\n",
    "    \"variable\": [\"mean_sea_level_pressure\"],\n",
    "    \"year\": [\n",
    "        \"2022\"\n",
    "    ],\n",
    "    \"month\": [\n",
    "        \"01\", \"02\", \"03\",\n",
    "        \"04\", \"05\", \"06\",\n",
    "        \"07\", \"08\", \"09\",\n",
    "        \"10\", \"11\", \"12\"\n",
    "    ],\n",
    "    \"day\": [\n",
    "        \"01\", \"02\", \"03\",\n",
    "        \"04\", \"05\", \"06\",\n",
    "        \"07\", \"08\", \"09\",\n",
    "        \"10\", \"11\", \"12\",\n",
    "        \"13\", \"14\", \"15\",\n",
    "        \"16\", \"17\", \"18\",\n",
    "        \"19\", \"20\", \"21\",\n",
    "        \"22\", \"23\", \"24\",\n",
    "        \"25\", \"26\", \"27\",\n",
    "        \"28\", \"29\", \"30\",\n",
    "        \"31\"\n",
    "    ],\n",
    "    \"time\": [\n",
    "        \"00:00\", \"06:00\", \"12:00\",\n",
    "        \"18:00\"\n",
    "    ],\n",
    "    \"data_format\": \"netcdf\",\n",
    "    \"download_format\": \"unarchived\"\n",
    "}\n",
    "\n",
    "target = \"/OUTPUT_DIR/era5_msl_2022_6hourly.nc\"\n",
    "os.makedirs(os.path.dirname(target), exist_ok=True)\n",
    "# client = cdsapi.Client()\n",
    "\n",
    "c.retrieve(dataset, request, target)\n"
   ]
  },
  {
   "cell_type": "code",
   "execution_count": null,
   "id": "31adb2b1-b7bd-48c6-bf02-197d20f708c5",
   "metadata": {},
   "outputs": [],
   "source": []
  }
 ],
 "metadata": {
  "kernelspec": {
   "display_name": "Python 3 (ipykernel)",
   "language": "python",
   "name": "python3"
  },
  "language_info": {
   "codemirror_mode": {
    "name": "ipython",
    "version": 3
   },
   "file_extension": ".py",
   "mimetype": "text/x-python",
   "name": "python",
   "nbconvert_exporter": "python",
   "pygments_lexer": "ipython3",
   "version": "3.11.13"
  }
 },
 "nbformat": 4,
 "nbformat_minor": 5
}
